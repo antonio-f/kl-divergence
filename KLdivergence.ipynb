{
 "cells": [
  {
   "cell_type": "markdown",
   "metadata": {},
   "source": [
    "# The Kullback-Leibler divergence"
   ]
  },
  {
   "cell_type": "markdown",
   "metadata": {},
   "source": [
    "We will just spend a few words on a well-known measure of how dissimilar a given distribution is from another reference distribution. First we will give a definition for such a measure and then we will provide some intuitive meaning together with some useful coding snippets. "
   ]
  },
  {
   "cell_type": "markdown",
   "metadata": {},
   "source": [
    "### Definition"
   ]
  },
  {
   "cell_type": "markdown",
   "metadata": {},
   "source": [
    "Let’s begin with the discrete case. So let $P$ and $Q$ be two probability distributions defined on the same probability space $\\mathcal{X}$ . A first attempt may be considering the average of the difference between the distributions. Quite close indeed, the following defintion is just a little bit different. The Kullback-Leibler divergence (also called relative entropy) $\\mathrm{KL}(P ‖ Q)$ is defined as the average of the difference between the logarithms of probabilities $P(x)$ and $Q(x)$:"
   ]
  },
  {
   "cell_type": "markdown",
   "metadata": {},
   "source": [
    "$\\mathrm{KL}(P\\Vert Q) \\, \\stackrel{\\mathsf{def}}{=} \\, \\mathbb{E} \\big[ \\log P(x)  - \\log Q(x) \\big]\\,.$"
   ]
  },
  {
   "cell_type": "markdown",
   "metadata": {},
   "source": [
    "The expectation is taken using the probabilities $P$ (often written as $x \\sim P$). The definition of expectation leads to the expression"
   ]
  },
  {
   "cell_type": "markdown",
   "metadata": {},
   "source": [
    "$\\displaystyle \\mathrm{KL}(P\\Vert Q) = \\sum_{x \\in \\mathcal{X}} P(x) \\log\\left(\\frac{P(x)}{Q(x)}\\right).$"
   ]
  },
  {
   "cell_type": "markdown",
   "metadata": {},
   "source": [
    "In the case of continuous distributions we write"
   ]
  },
  {
   "cell_type": "markdown",
   "metadata": {},
   "source": [
    "$\\displaystyle \\mathrm{KL}(P\\Vert Q) = \\int_{-\\infty}^\\infty p(x) \\log\\left(\\frac{p(x)}{q(x)}\\right) \\,\\mathrm{d}x$"
   ]
  },
  {
   "cell_type": "markdown",
   "metadata": {},
   "source": [
    "where $p(x)$ and $q(x)$ are $P$ and $Q$ respective densities. "
   ]
  },
  {
   "cell_type": "markdown",
   "metadata": {},
   "source": [
    "KL divergence is often called a “distance” but it is not a distance in mathematical sense (a metric): KL divergence is not symmetrical. This means that $\\mathrm{KL}(P ‖ Q)$ is generally different from $\\mathrm{KL}(Q ‖ P)$."
   ]
  },
  {
   "cell_type": "markdown",
   "metadata": {},
   "source": [
    "If $Q(x)$ is 0 for some $x$, the KL divergence is not defined unless it is $P(x) = 0$. What if $P$ is 0 somewhere? In this case, we interpret that the KL divergence must be zero since when $a$ approaches 0, the expression $a\\log(a)$ tends to 0 ."
   ]
  },
  {
   "cell_type": "markdown",
   "metadata": {},
   "source": [
    "### Motivations behind the definition"
   ]
  },
  {
   "cell_type": "markdown",
   "metadata": {},
   "source": [
    "A first intuition comes form the fact that if $\\{p_i\\}$ and $\\{q_i\\}$ are two probability mass functions, that is, two countable or finite sequences of nonnegative numbers that sum to one, then "
   ]
  },
  {
   "cell_type": "markdown",
   "metadata": {},
   "source": [
    "$\\displaystyle  \\sum_{i} p_i \\log \\left(\\frac{p_i}{q_i}\\right) \\geq 0$"
   ]
  },
  {
   "cell_type": "markdown",
   "metadata": {},
   "source": [
    "with equality if and only if $p_i = q_i$ for all $i$. The fact that the divergence of one probability distribution with respect to another is nonnegative and zero only when the two distributions are the same suggests the interpretation of KL divergence as a “distance” between two distributions, that is, a measure of how different the two distributions are."
   ]
  },
  {
   "cell_type": "markdown",
   "metadata": {},
   "source": [
    "A second intuition about the fact that KL divergence actually expresses some kind of distance between two distributions comes from the expression "
   ]
  },
  {
   "cell_type": "markdown",
   "metadata": {},
   "source": [
    "$\\begin{aligned} \\displaystyle \\mathrm{KL}(P\\Vert Q) &= \\int_{-\\infty}^\\infty p(x) \\left( \\log p(x) - \\log q(x) \\right) \\, \\mathrm{d}x \\\\& = \\int_{-\\infty}^\\infty p(x) D(x)\\, \\mathrm{d}x \\end{aligned}$"
   ]
  },
  {
   "cell_type": "markdown",
   "metadata": {},
   "source": [
    "where it is immediate to recognize that the difference between logarithms $D(x)$ is a term expressing the gap between the two distributions. If the average gap is small, then the two distributions are “similar” or “close”. "
   ]
  },
  {
   "cell_type": "markdown",
   "metadata": {},
   "source": [
    "![kl1](kldivergence1.png)"
   ]
  },
  {
   "cell_type": "markdown",
   "metadata": {},
   "source": [
    "### Connection with cross entropy"
   ]
  },
  {
   "cell_type": "markdown",
   "metadata": {},
   "source": [
    "KL divergence $\\mathrm{KL}(P ‖ Q)$ is equal to "
   ]
  },
  {
   "cell_type": "markdown",
   "metadata": {},
   "source": [
    "$\\begin{aligned} \\displaystyle \\mathrm{KL}(P\\Vert Q) &= - \\sum_x P(x)  \\log Q(x) + \\sum_x P(x) \\log P(x) \\\\& = H(P,Q) + H(P) \\end{aligned}$"
   ]
  },
  {
   "cell_type": "markdown",
   "metadata": {},
   "source": [
    "where $H(P , Q)$ is the cross entropy of $P$ and $Q$ and $H(P)$ is the entropy of $P$. As we said, $\\mathrm{KL}(P ‖ Q)$ can be thought of as something like a measurement of how far the distribution $Q$ is from the distribution $P$. But cross entropy is itself such a measurement… the difference is that cross entropy has a — generally nonzero — minimum when $P = Q$, that is $H(P , P) = H(P)$; so in KL divergence we subtract the entropy term $H(P)$ to attain minimum value $0$. This is coherent with the property that the distance of an object from itself should be zero. "
   ]
  },
  {
   "cell_type": "markdown",
   "metadata": {},
   "source": [
    "### Quick example"
   ]
  },
  {
   "cell_type": "markdown",
   "metadata": {},
   "source": [
    "Let $P$ and $Q$ be the following distributions (each possible outcome $x$ is in $\\mathcal{X} = \\{0, 1, 2\\}$):"
   ]
  },
  {
   "cell_type": "markdown",
   "metadata": {},
   "source": [
    "![table](table.png)"
   ]
  },
  {
   "cell_type": "markdown",
   "metadata": {},
   "source": [
    "![kl2](kldivergence2.png)"
   ]
  },
  {
   "cell_type": "markdown",
   "metadata": {},
   "source": [
    "The following picture shows both $P$ (amber) and $Q$ (gray) overlapping."
   ]
  },
  {
   "cell_type": "markdown",
   "metadata": {},
   "source": [
    "![kl3.1](kldivergence3-1.png)"
   ]
  },
  {
   "cell_type": "markdown",
   "metadata": {},
   "source": [
    "Next picture shows the logarithm of distributions with the difference $D$ at $x = 2$."
   ]
  },
  {
   "cell_type": "markdown",
   "metadata": {},
   "source": [
    "![kl4](kldivergence4.png)"
   ]
  },
  {
   "cell_type": "markdown",
   "metadata": {},
   "source": [
    "Let’s calculate $\\mathrm{KL}(P ‖ Q)$."
   ]
  },
  {
   "cell_type": "markdown",
   "metadata": {},
   "source": [
    "$\\begin{aligned} \\displaystyle \\mathrm{KL}(P\\Vert Q) &= \\sum_x P(x)  \\log \\left( \\frac{P(x)}{Q(x)} \\right) \\\\&= 9/25 \\log\\left(\\frac{9/25}{1/3}\\right) + 12/25 \\log\\left(\\frac{12/25}{1/3} \\right) + 4/25 \\log\\left(\\frac{4/25}{1/3} \\right) \\\\& \\approx 0.0853\\,. \\end{aligned}$"
   ]
  },
  {
   "cell_type": "markdown",
   "metadata": {},
   "source": [
    "Interchanging the arguments, we find that $\\mathrm{KL}(Q ‖ P)$ is approximately 0.0974 and this value is different from the previous."
   ]
  },
  {
   "cell_type": "markdown",
   "metadata": {},
   "source": [
    "### Evaluate KL divergence with Python"
   ]
  },
  {
   "cell_type": "markdown",
   "metadata": {},
   "source": [
    "Import the [entropy](https://docs.scipy.org/doc/scipy/reference/generated/scipy.stats.entropy.html) function"
   ]
  },
  {
   "cell_type": "code",
   "execution_count": 2,
   "metadata": {},
   "outputs": [
    {
     "name": "stdout",
     "output_type": "stream",
     "text": [
      "Collecting scipy\n",
      "  Downloading scipy-1.12.0-cp311-cp311-manylinux_2_17_x86_64.manylinux2014_x86_64.whl.metadata (60 kB)\n",
      "\u001b[2K     \u001b[90m━━━━━━━━━━━━━━━━━━━━━━━━━━━━━━━━━━━━━━━━\u001b[0m \u001b[32m60.4/60.4 kB\u001b[0m \u001b[31m1.3 MB/s\u001b[0m eta \u001b[36m0:00:00\u001b[0ma \u001b[36m0:00:01\u001b[0m\n",
      "\u001b[?25hRequirement already satisfied: numpy<1.29.0,>=1.22.4 in /home/af/.anaconda3/envs/p/lib/python3.11/site-packages (from scipy) (1.26.3)\n",
      "Downloading scipy-1.12.0-cp311-cp311-manylinux_2_17_x86_64.manylinux2014_x86_64.whl (38.4 MB)\n",
      "\u001b[2K   \u001b[90m━━━━━━━━━━━━━━━━━━━━━━━━━━━━━━━━━━━━━━━━\u001b[0m \u001b[32m38.4/38.4 MB\u001b[0m \u001b[31m55.0 MB/s\u001b[0m eta \u001b[36m0:00:00\u001b[0m00:01\u001b[0m00:01\u001b[0m\n",
      "\u001b[?25hInstalling collected packages: scipy\n",
      "Successfully installed scipy-1.12.0\n"
     ]
    }
   ],
   "source": [
    "!pip install scipy\n",
    "from scipy.stats import entropy"
   ]
  },
  {
   "cell_type": "markdown",
   "metadata": {},
   "source": [
    "and then compute $\\mathrm{KL}(Q ‖ P)$ from the example above in just one line. "
   ]
  },
  {
   "cell_type": "code",
   "execution_count": 3,
   "metadata": {},
   "outputs": [
    {
     "data": {
      "text/plain": [
       "0.0852996013183706"
      ]
     },
     "execution_count": 3,
     "metadata": {},
     "output_type": "execute_result"
    }
   ],
   "source": [
    "entropy([9/25, 12/25, 4/25], qk=[1/3, 1/3, 1/3])"
   ]
  },
  {
   "cell_type": "markdown",
   "metadata": {},
   "source": [
    "Below, a simple Python coding example for figures 1~4 above. Note that the two continuous density curves have a magnifying coefficient for scaling purposes. "
   ]
  },
  {
   "cell_type": "code",
   "execution_count": 9,
   "metadata": {},
   "outputs": [
    {
     "data": {
      "image/png": "[encoded data removed]",
      "text/plain": [
       "<Figure size 640x480 with 1 Axes>"
      ]
     },
     "metadata": {},
     "output_type": "display_data"
    },
    {
     "data": {
      "image/png": "[encoded data removed]",
      "text/plain": [
       "<Figure size 640x480 with 1 Axes>"
      ]
     },
     "metadata": {},
     "output_type": "display_data"
    }
   ],
   "source": [
    "import matplotlib.pyplot as plt \n",
    "import numpy as np \n",
    "\n",
    "p = [9/25, 12/25, 4/25]\n",
    "q = [1./3,1./3,1./3]\n",
    "xx = ['0','1','2']\n",
    "\n",
    "logq = np.log(q)\n",
    "logp = np.log(p)\n",
    "\n",
    "plt.bar(xx, q, color='beige')\n",
    "plt.bar(xx, p, alpha=.6, color='orange')\n",
    "plt.show()\n",
    "\n",
    "plt.bar(xx, logq, color='beige')\n",
    "plt.bar(xx, logp, alpha=.6, color='orange')\n",
    "plt.show()"
   ]
  },
  {
   "cell_type": "code",
   "execution_count": 19,
   "metadata": {},
   "outputs": [
    {
     "data": {
      "image/png": "[encoded data removed]",
      "text/plain": [
       "<Figure size 640x480 with 1 Axes>"
      ]
     },
     "metadata": {},
     "output_type": "display_data"
    }
   ],
   "source": [
    "from scipy.stats import norm, skewnorm\n",
    "\n",
    "x = np.arange(-3,2.5,.001)\n",
    "plt.plot(x, 10*skewnorm.pdf(x,-1.2), color='black')\n",
    "plt.plot(x, 10*norm.pdf(x, scale=1.1), color='orange')\n",
    "log1 = np.log(skewnorm.pdf(x,-1.2))\n",
    "log2 = np.log(norm.pdf(x, scale=1.1))\n",
    "plt.plot(x, log1, color='black')\n",
    "plt.plot(x, log2, color='orange')\n",
    "plt.fill_between(x, log1, log2, \n",
    "                 where=log1>=log2, facecolor='grey', \n",
    "                 interpolate=True)\n",
    "plt.fill_between(x, log1, log2, \n",
    "                 where=log1<log2, facecolor='orange', \n",
    "                 interpolate=True)\n",
    "plt.show()"
   ]
  }
 ],
 "metadata": {
  "kernelspec": {
   "display_name": "p",
   "language": "python",
   "name": "python3"
  },
  "language_info": {
   "codemirror_mode": {
    "name": "ipython",
    "version": 3
   },
   "file_extension": ".py",
   "mimetype": "text/x-python",
   "name": "python",
   "nbconvert_exporter": "python",
   "pygments_lexer": "ipython3",
   "version": "3.11.7"
  }
 },
 "nbformat": 4,
 "nbformat_minor": 2
}
